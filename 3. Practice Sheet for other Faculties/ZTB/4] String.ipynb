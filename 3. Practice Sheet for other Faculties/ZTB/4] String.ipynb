{
 "cells": [
  {
   "cell_type": "code",
   "execution_count": null,
   "id": "be4dea13",
   "metadata": {},
   "outputs": [],
   "source": [
    "RECAP:"
   ]
  },
  {
   "cell_type": "code",
   "execution_count": 26,
   "id": "c38595f2",
   "metadata": {},
   "outputs": [
    {
     "name": "stdout",
     "output_type": "stream",
     "text": [
      "Hello World\n",
      "Hello World\n",
      "Hello World.\n",
      "This is the Sun speaking.\n",
      "Have you talked to Moon?\n"
     ]
    }
   ],
   "source": [
    "val1 = 'Hello World'\n",
    "val2 = \"Hello World\"\n",
    "# val100 = \"Hello World.\n",
    "# This is ZBee.\"\n",
    "# print(val100)\n",
    "val3 = '''Hello World.\n",
    "This is the Sun speaking.\n",
    "Have you talked to Moon?'''\n",
    "\n",
    "print(val1)\n",
    "print(val2)\n",
    "print(val3)"
   ]
  },
  {
   "cell_type": "code",
   "execution_count": 27,
   "id": "992a7047",
   "metadata": {},
   "outputs": [
    {
     "name": "stdout",
     "output_type": "stream",
     "text": [
      "She said, 'I have a lot of work to do'.\n",
      "She said, \"I have a lot of work to do\".\n"
     ]
    }
   ],
   "source": [
    "val4 = \"She said, 'I have a lot of work to do'.\"\n",
    "print(val4)\n",
    "\n",
    "val5 = \"She said, \\\"I have a lot of work to do\\\".\"\n",
    "print(val5)"
   ]
  },
  {
   "cell_type": "code",
   "execution_count": null,
   "id": "549f2d4b",
   "metadata": {},
   "outputs": [],
   "source": [
    "#Indexing"
   ]
  },
  {
   "cell_type": "code",
   "execution_count": 5,
   "id": "45f8a142",
   "metadata": {},
   "outputs": [
    {
     "name": "stdout",
     "output_type": "stream",
     "text": [
      "I am Baymax You are Batman\n"
     ]
    }
   ],
   "source": [
    "#Immutability\n",
    "\n",
    "s = \"I am Baymax\"\n",
    "# s[0] = \"J\"\n",
    "# print(s)\n",
    "\n",
    "s = \"I am Baymax\"\n",
    "# s = \"I am Batman\"\n",
    "s = s+\" You are Batman\"\n",
    "print(s)\n"
   ]
  },
  {
   "cell_type": "code",
   "execution_count": 7,
   "id": "98afb530",
   "metadata": {},
   "outputs": [
    {
     "name": "stdout",
     "output_type": "stream",
     "text": [
      "a am\n",
      "am Baym\n"
     ]
    }
   ],
   "source": [
    "#Slicing\n",
    "\n",
    "s = \"I am Baymax\" \n",
    "\n",
    "# print(s[2:4])\n",
    "# print(s[:4])\n",
    "# print(s[5:])\n",
    "# print(s[::])\n",
    "print(s[2:9:2])\n",
    "print(s[2:9:1])"
   ]
  },
  {
   "cell_type": "code",
   "execution_count": 29,
   "id": "eeeda98b",
   "metadata": {},
   "outputs": [
    {
     "name": "stdout",
     "output_type": "stream",
     "text": [
      "I\n",
      " \n",
      "a\n",
      "m\n",
      " \n",
      "B\n",
      "a\n",
      "t\n",
      "m\n",
      "a\n",
      "n\n",
      "===============\n",
      "I\n",
      " \n",
      "a\n",
      "m\n",
      " \n",
      "B\n",
      "a\n",
      "t\n",
      "m\n",
      "a\n",
      "n\n",
      "===============\n",
      "I 0\n",
      "  1\n",
      "a 2\n",
      "m 3\n",
      "  4\n",
      "B 5\n",
      "a 6\n",
      "t 7\n",
      "m 8\n",
      "a 9\n",
      "n 10\n"
     ]
    },
    {
     "ename": "TypeError",
     "evalue": "'str' object doesn't support item deletion",
     "output_type": "error",
     "traceback": [
      "\u001b[0;31m---------------------------------------------------------------------------\u001b[0m",
      "\u001b[0;31mTypeError\u001b[0m                                 Traceback (most recent call last)",
      "\u001b[0;32m/var/folders/b8/q3zmxcts1wv9d7xr2_lrs4hr0000gn/T/ipykernel_40460/515149267.py\u001b[0m in \u001b[0;36m<module>\u001b[0;34m\u001b[0m\n\u001b[1;32m     24\u001b[0m \u001b[0;31m# del s\u001b[0m\u001b[0;34m\u001b[0m\u001b[0;34m\u001b[0m\u001b[0m\n\u001b[1;32m     25\u001b[0m \u001b[0;31m# print(s)\u001b[0m\u001b[0;34m\u001b[0m\u001b[0;34m\u001b[0m\u001b[0m\n\u001b[0;32m---> 26\u001b[0;31m \u001b[0;32mdel\u001b[0m \u001b[0ms\u001b[0m\u001b[0;34m[\u001b[0m\u001b[0;36m0\u001b[0m\u001b[0;34m]\u001b[0m\u001b[0;34m\u001b[0m\u001b[0;34m\u001b[0m\u001b[0m\n\u001b[0m\u001b[1;32m     27\u001b[0m \u001b[0mprint\u001b[0m\u001b[0;34m(\u001b[0m\u001b[0ms\u001b[0m\u001b[0;34m)\u001b[0m\u001b[0;34m\u001b[0m\u001b[0;34m\u001b[0m\u001b[0m\n",
      "\u001b[0;31mTypeError\u001b[0m: 'str' object doesn't support item deletion"
     ]
    }
   ],
   "source": [
    "#Iterating\n",
    "\n",
    "index=0\n",
    "s = \"I am Batman\"\n",
    "while index < len(s):\n",
    "    print(s[index])\n",
    "    index+=1\n",
    "    \n",
    "print(\"===============\")\n",
    "\n",
    "s = \"I am Batman\"\n",
    "for i in s:\n",
    "    print(i)\n",
    "    #I\n",
    "    \n",
    "\n",
    "print(\"===============\")\n",
    "\n",
    "s = \"I am Batman\"\n",
    "for i in range(len(s)):\n",
    "    print(s[i], i)\n",
    "    #i = 0\n",
    "\n",
    "# del s\n",
    "# print(s)\n",
    "# del s[0]\n",
    "# print(s)"
   ]
  },
  {
   "cell_type": "code",
   "execution_count": 5,
   "id": "fc484f39",
   "metadata": {},
   "outputs": [
    {
     "name": "stdout",
     "output_type": "stream",
     "text": [
      "Hello there\n",
      "Hello there\n",
      "Hello there\n",
      "Hello there\n",
      "\n",
      "================\n",
      "Hello there\n",
      "Hello there\n",
      "Hello there\n",
      "Hello there\n"
     ]
    }
   ],
   "source": [
    "#Repitition\n",
    "\n",
    "s = \"Hello there\"\n",
    "# print(s*4)\n",
    "print((s+\"\\n\")*4)\n",
    "# print((s+\"\\n\")*4)\n",
    "\n",
    "\n",
    "print(\"================\")\n",
    "for i in range(1,5):\n",
    "    print(s)"
   ]
  },
  {
   "cell_type": "code",
   "execution_count": 18,
   "id": "30b63d83",
   "metadata": {},
   "outputs": [
    {
     "name": "stdout",
     "output_type": "stream",
     "text": [
      "65\n",
      "66\n",
      "90\n",
      "97\n",
      "122\n",
      "B\n",
      "b\n",
      "b\n",
      "B\n"
     ]
    }
   ],
   "source": [
    "#ASCII values\n",
    "\n",
    "print(ord(\"A\"))\n",
    "print(ord(\"B\"))\n",
    "print(ord(\"Z\"))\n",
    "print(ord(\"a\"))\n",
    "print(ord(\"z\"))\n",
    "\n",
    "# print(chr(65)) #A\n",
    "# print(chr(65+32)) #a\n",
    "\n",
    "# print(chr(122)) #z\n",
    "# print(chr(122-32)) #Z\n",
    "\n",
    "# print(chr(90+32))\n",
    "\n",
    "print(chr(66)) #B\n",
    "print(chr(66+32)) #b\n",
    "\n",
    "print(chr(98)) #b\n",
    "print(chr(98-32)) #B\n"
   ]
  },
  {
   "cell_type": "code",
   "execution_count": 30,
   "id": "3dc80c6a",
   "metadata": {},
   "outputs": [
    {
     "name": "stdout",
     "output_type": "stream",
     "text": [
      "abc@gmail.com,bcd@gmail.com,cde@gmail.com\n",
      "['abc@gmail.com', 'bcd@gmail.com', 'cde@gmail.com']\n",
      "abc@gmail.com\n",
      "bcd@gmail.com\n",
      "cde@gmail.com\n"
     ]
    }
   ],
   "source": [
    "#Built-in funtions\n",
    "\n",
    "str = \"Hello\"\n",
    "print(len(str))\n",
    "print(str.lower())\n",
    "print(str.upper())\n",
    "print(\"=====================\")\n",
    "\n",
    "str1 = '  Hello'\n",
    "nstr1 = str1.strip()\n",
    "print(str1)\n",
    "print(nstr1)\n",
    "print(\"=====================\")\n",
    "\n",
    "str2 = '  Hello    '\n",
    "print(len(str2))\n",
    "nstr2 = str2.lstrip()\n",
    "print(str2)\n",
    "print(nstr2)\n",
    "print(\"=====================\")\n",
    "\n",
    "str3 = 'Hello    '\n",
    "nstr3 = str3.rstrip()\n",
    "print(str3)\n",
    "print(nstr3)\n",
    "print(\"=====================\")\n",
    "\n",
    "str4 = \"Bangladesh\"\n",
    "print(str4.count(\"a\"))\n",
    "print(str4.startswith(\"a\"))\n",
    "print(str4.endswith(\"h\"))\n",
    "print(str4.find(\"x\"))\n",
    "print(str4.replace('a', 'z'))\n",
    "print(\"=====================\")\n",
    "\n",
    "value = \"abc@gmail.com,bcd@gmail.com,cde@gmail.com\"\n",
    "newvalue = value.split(\",\")\n",
    "print(value)\n",
    "print(newvalue)\n",
    "\n",
    "# [1,2,3,4]\n",
    "\n",
    "for i in newvalue:\n",
    "    print(i)"
   ]
  },
  {
   "cell_type": "markdown",
   "id": "e8579bf6",
   "metadata": {},
   "source": [
    "### Task 3\n",
    "\n",
    "Write a Python program that will ask the user to input a string (containing exactly one word). Then print the ASCII code for each character in the String using the ord() function. \n",
    "\n",
    "To check if your program is working correctly or not, you can find a list of all correct values from the following website. You may look at “Dec” and “Char” columns only and ignore the other columns for this problem.\\\n",
    "link: http://www.asciitable.com/\n",
    "\n",
    "=====================================================================\n",
    "\n",
    "**Example 1:**\\\n",
    "Input: Programming\\\n",
    "Output:\\\n",
    "P : 80\\\n",
    "r : 114\\\n",
    "o : 111\\\n",
    "g : 103\\\n",
    "r : 114\\\n",
    "a : 97\\\n",
    "m : 109\\\n",
    "m : 109\\\n",
    "i : 105\\\n",
    "n : 110\\\n",
    "g : 103\n",
    "\n",
    "=====================================================================\n",
    "\n",
    "**Example 2:**\\\n",
    "Input: hunger\\\n",
    "Output:\\\n",
    "h : 104\\\n",
    "u : 117\\\n",
    "n : 110\\\n",
    "g : 103\\\n",
    "e : 101\\\n",
    "r : 114 \n",
    "\n",
    "====================================================================="
   ]
  },
  {
   "cell_type": "code",
   "execution_count": 1,
   "id": "bea20c53",
   "metadata": {},
   "outputs": [
    {
     "name": "stdout",
     "output_type": "stream",
     "text": [
      "Enter a word: Programming\n",
      "P : 80\n",
      "r : 114\n",
      "o : 111\n",
      "g : 103\n",
      "r : 114\n",
      "a : 97\n",
      "m : 109\n",
      "m : 109\n",
      "i : 105\n",
      "n : 110\n",
      "g : 103\n",
      "===============\n",
      "P : 80\n",
      "r : 114\n",
      "o : 111\n",
      "g : 103\n",
      "r : 114\n",
      "a : 97\n",
      "m : 109\n",
      "m : 109\n",
      "i : 105\n",
      "n : 110\n",
      "g : 103\n"
     ]
    }
   ],
   "source": [
    "#SOLVE\n",
    "\n",
    "word = input(\"Enter a word: \")\n",
    "\n",
    "for i in word:\n",
    "    print(i, \":\", ord(i))\n",
    "   \n",
    "print(\"===============\")\n",
    "\n",
    "for i in word:\n",
    "    print(f\"{i} : {ord(i)}\")\n",
    "    "
   ]
  },
  {
   "cell_type": "markdown",
   "id": "1831c3f2",
   "metadata": {},
   "source": [
    "### Task 4\n",
    "\n",
    "Take a string as a input from the user with all small letters. Then print the next alphabet in sequence for each alphabet found in the input.\n",
    "\n",
    "=====================================================================\n",
    "\n",
    "\n",
    "*Hint: You may need to use the functions ord() and chr(). The ASCII value of ‘a’ is 97 and ‘z’ is 122.*\n",
    "\n",
    "=====================================================================\n",
    "\n",
    "**Example 1:**\\\n",
    "Input: abcd\\\n",
    "Output: bcde\n",
    "\n",
    "=====================================================================\n",
    "\n",
    "**Example 2:**\\\n",
    "Input: the cow\\\n",
    "Output: uif!dpx\n",
    "\n",
    "=====================================================================\n",
    "\n",
    "**Example 3: <font color='red'>[Must fulfil this criteria]</font>**\\\n",
    "Input: xyzabc\\\n",
    "Output: yzabcd\n",
    "\n",
    "=====================================================================\n"
   ]
  },
  {
   "cell_type": "code",
   "execution_count": 38,
   "id": "fb748f94",
   "metadata": {},
   "outputs": [
    {
     "name": "stdout",
     "output_type": "stream",
     "text": [
      "Enter a word: xyzabc\n",
      "yzabcd"
     ]
    }
   ],
   "source": [
    "#SOLVE\n",
    "\n",
    "word = input(\"Enter a word: \")\n",
    "\n",
    "\n",
    "for i in word:\n",
    "    if i=='z':\n",
    "        print('a', end=\"\")\n",
    "    else:\n",
    "        print(chr(ord(i)+1), end=\"\")\n"
   ]
  },
  {
   "cell_type": "code",
   "execution_count": null,
   "id": "7465c99a",
   "metadata": {},
   "outputs": [],
   "source": []
  }
 ],
 "metadata": {
  "kernelspec": {
   "display_name": "Python 3 (ipykernel)",
   "language": "python",
   "name": "python3"
  },
  "language_info": {
   "codemirror_mode": {
    "name": "ipython",
    "version": 3
   },
   "file_extension": ".py",
   "mimetype": "text/x-python",
   "name": "python",
   "nbconvert_exporter": "python",
   "pygments_lexer": "ipython3",
   "version": "3.9.7"
  }
 },
 "nbformat": 4,
 "nbformat_minor": 5
}
